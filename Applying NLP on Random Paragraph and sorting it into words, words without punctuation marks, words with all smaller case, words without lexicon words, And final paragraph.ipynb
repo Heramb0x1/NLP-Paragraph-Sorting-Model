{
 "cells": [
  {
   "cell_type": "code",
   "execution_count": null,
   "id": "644c7b53",
   "metadata": {},
   "outputs": [],
   "source": [
    "#Made By @Heramb.0x1\n",
    "#DMs Are Invited: https://www.linkedin.com/in/heramb0x1/ "
   ]
  },
  {
   "cell_type": "code",
   "execution_count": 3,
   "id": "365a34f2",
   "metadata": {},
   "outputs": [],
   "source": [
    "import nltk  #Ntural Language Tool Kit"
   ]
  },
  {
   "cell_type": "code",
   "execution_count": 4,
   "id": "20cb031e",
   "metadata": {},
   "outputs": [
    {
     "name": "stderr",
     "output_type": "stream",
     "text": [
      "[nltk_data] Downloading collection 'popular'\n",
      "[nltk_data]    | \n",
      "[nltk_data]    | Downloading package cmudict to\n",
      "[nltk_data]    |     C:\\Users\\3162f\\AppData\\Roaming\\nltk_data...\n",
      "[nltk_data]    |   Package cmudict is already up-to-date!\n",
      "[nltk_data]    | Downloading package gazetteers to\n",
      "[nltk_data]    |     C:\\Users\\3162f\\AppData\\Roaming\\nltk_data...\n",
      "[nltk_data]    |   Package gazetteers is already up-to-date!\n",
      "[nltk_data]    | Downloading package genesis to\n",
      "[nltk_data]    |     C:\\Users\\3162f\\AppData\\Roaming\\nltk_data...\n",
      "[nltk_data]    |   Package genesis is already up-to-date!\n",
      "[nltk_data]    | Downloading package gutenberg to\n",
      "[nltk_data]    |     C:\\Users\\3162f\\AppData\\Roaming\\nltk_data...\n",
      "[nltk_data]    |   Package gutenberg is already up-to-date!\n",
      "[nltk_data]    | Downloading package inaugural to\n",
      "[nltk_data]    |     C:\\Users\\3162f\\AppData\\Roaming\\nltk_data...\n",
      "[nltk_data]    |   Package inaugural is already up-to-date!\n",
      "[nltk_data]    | Downloading package movie_reviews to\n",
      "[nltk_data]    |     C:\\Users\\3162f\\AppData\\Roaming\\nltk_data...\n",
      "[nltk_data]    |   Package movie_reviews is already up-to-date!\n",
      "[nltk_data]    | Downloading package names to\n",
      "[nltk_data]    |     C:\\Users\\3162f\\AppData\\Roaming\\nltk_data...\n",
      "[nltk_data]    |   Package names is already up-to-date!\n",
      "[nltk_data]    | Downloading package shakespeare to\n",
      "[nltk_data]    |     C:\\Users\\3162f\\AppData\\Roaming\\nltk_data...\n",
      "[nltk_data]    |   Package shakespeare is already up-to-date!\n",
      "[nltk_data]    | Downloading package stopwords to\n",
      "[nltk_data]    |     C:\\Users\\3162f\\AppData\\Roaming\\nltk_data...\n",
      "[nltk_data]    |   Package stopwords is already up-to-date!\n",
      "[nltk_data]    | Downloading package treebank to\n",
      "[nltk_data]    |     C:\\Users\\3162f\\AppData\\Roaming\\nltk_data...\n",
      "[nltk_data]    |   Package treebank is already up-to-date!\n",
      "[nltk_data]    | Downloading package twitter_samples to\n",
      "[nltk_data]    |     C:\\Users\\3162f\\AppData\\Roaming\\nltk_data...\n",
      "[nltk_data]    |   Package twitter_samples is already up-to-date!\n",
      "[nltk_data]    | Downloading package omw to\n",
      "[nltk_data]    |     C:\\Users\\3162f\\AppData\\Roaming\\nltk_data...\n",
      "[nltk_data]    |   Package omw is already up-to-date!\n",
      "[nltk_data]    | Downloading package omw-1.4 to\n",
      "[nltk_data]    |     C:\\Users\\3162f\\AppData\\Roaming\\nltk_data...\n",
      "[nltk_data]    |   Package omw-1.4 is already up-to-date!\n",
      "[nltk_data]    | Downloading package wordnet to\n",
      "[nltk_data]    |     C:\\Users\\3162f\\AppData\\Roaming\\nltk_data...\n",
      "[nltk_data]    |   Package wordnet is already up-to-date!\n",
      "[nltk_data]    | Downloading package wordnet2021 to\n",
      "[nltk_data]    |     C:\\Users\\3162f\\AppData\\Roaming\\nltk_data...\n",
      "[nltk_data]    |   Package wordnet2021 is already up-to-date!\n",
      "[nltk_data]    | Downloading package wordnet31 to\n",
      "[nltk_data]    |     C:\\Users\\3162f\\AppData\\Roaming\\nltk_data...\n",
      "[nltk_data]    |   Package wordnet31 is already up-to-date!\n",
      "[nltk_data]    | Downloading package wordnet_ic to\n",
      "[nltk_data]    |     C:\\Users\\3162f\\AppData\\Roaming\\nltk_data...\n",
      "[nltk_data]    |   Package wordnet_ic is already up-to-date!\n",
      "[nltk_data]    | Downloading package words to\n",
      "[nltk_data]    |     C:\\Users\\3162f\\AppData\\Roaming\\nltk_data...\n",
      "[nltk_data]    |   Package words is already up-to-date!\n",
      "[nltk_data]    | Downloading package maxent_ne_chunker to\n",
      "[nltk_data]    |     C:\\Users\\3162f\\AppData\\Roaming\\nltk_data...\n",
      "[nltk_data]    |   Package maxent_ne_chunker is already up-to-date!\n",
      "[nltk_data]    | Downloading package punkt to\n",
      "[nltk_data]    |     C:\\Users\\3162f\\AppData\\Roaming\\nltk_data...\n",
      "[nltk_data]    |   Package punkt is already up-to-date!\n",
      "[nltk_data]    | Downloading package snowball_data to\n",
      "[nltk_data]    |     C:\\Users\\3162f\\AppData\\Roaming\\nltk_data...\n",
      "[nltk_data]    |   Package snowball_data is already up-to-date!\n",
      "[nltk_data]    | Downloading package averaged_perceptron_tagger to\n",
      "[nltk_data]    |     C:\\Users\\3162f\\AppData\\Roaming\\nltk_data...\n",
      "[nltk_data]    |   Package averaged_perceptron_tagger is already up-\n",
      "[nltk_data]    |       to-date!\n",
      "[nltk_data]    | \n",
      "[nltk_data]  Done downloading collection popular\n"
     ]
    },
    {
     "data": {
      "text/plain": [
       "True"
      ]
     },
     "execution_count": 4,
     "metadata": {},
     "output_type": "execute_result"
    }
   ],
   "source": [
    "nltk.download('popular')"
   ]
  },
  {
   "cell_type": "code",
   "execution_count": 5,
   "id": "cd855ad7",
   "metadata": {},
   "outputs": [],
   "source": [
    "paragraph = \"Hello Participants ! Topic of the day is Natural Language Processing. We are learning about Natural Language Processing using nltk package. natural language processing is interesting and easy.This is also known as NLP.\""
   ]
  },
  {
   "cell_type": "code",
   "execution_count": 6,
   "id": "097c9bb4",
   "metadata": {},
   "outputs": [],
   "source": [
    "# 1) sentence tokenization\n",
    "from nltk.tokenize import sent_tokenize"
   ]
  },
  {
   "cell_type": "code",
   "execution_count": 7,
   "id": "264cd26f",
   "metadata": {},
   "outputs": [],
   "source": [
    "tokenized_text = sent_tokenize(paragraph)"
   ]
  },
  {
   "cell_type": "code",
   "execution_count": 8,
   "id": "4363451c",
   "metadata": {},
   "outputs": [
    {
     "data": {
      "text/plain": [
       "['Hello Participants !',\n",
       " 'Topic of the day is Natural Language Processing.',\n",
       " 'We are learning about Natural Language Processing using nltk package.',\n",
       " 'natural language processing is interesting and easy.This is also known as NLP.']"
      ]
     },
     "execution_count": 8,
     "metadata": {},
     "output_type": "execute_result"
    }
   ],
   "source": [
    "tokenized_text"
   ]
  },
  {
   "cell_type": "markdown",
   "id": "9e686397",
   "metadata": {},
   "source": [
    "#### 1. Tokeniztion"
   ]
  },
  {
   "cell_type": "code",
   "execution_count": 51,
   "id": "d3b9bea4",
   "metadata": {},
   "outputs": [],
   "source": [
    "####A) Sentence Tokenization\n",
    "####B) Words Tokenization"
   ]
  },
  {
   "cell_type": "code",
   "execution_count": 9,
   "id": "5dc8bdc2",
   "metadata": {},
   "outputs": [],
   "source": [
    "from nltk.tokenize import sent_tokenize"
   ]
  },
  {
   "cell_type": "code",
   "execution_count": 10,
   "id": "5a19a9c6",
   "metadata": {},
   "outputs": [],
   "source": [
    "paragraph = \"Hello Participants ! Topic of the day is Natural Language Processing. We are learning about Natural Language Processing using nltk package. natural language processing is interesting and easy.This is also known as NLP.\""
   ]
  },
  {
   "cell_type": "markdown",
   "id": "b2bb4556",
   "metadata": {},
   "source": [
    "sent_tokenize(paragraph)\n",
    "#provide sentences"
   ]
  },
  {
   "cell_type": "code",
   "execution_count": 11,
   "id": "8fc72b0e",
   "metadata": {
    "scrolled": true
   },
   "outputs": [
    {
     "data": {
      "text/plain": [
       "['Hello',\n",
       " 'Participants',\n",
       " '!',\n",
       " 'Topic',\n",
       " 'of',\n",
       " 'the',\n",
       " 'day',\n",
       " 'is',\n",
       " 'Natural',\n",
       " 'Language',\n",
       " 'Processing',\n",
       " '.',\n",
       " 'We',\n",
       " 'are',\n",
       " 'learning',\n",
       " 'about',\n",
       " 'Natural',\n",
       " 'Language',\n",
       " 'Processing',\n",
       " 'using',\n",
       " 'nltk',\n",
       " 'package',\n",
       " '.',\n",
       " 'natural',\n",
       " 'language',\n",
       " 'processing',\n",
       " 'is',\n",
       " 'interesting',\n",
       " 'and',\n",
       " 'easy.This',\n",
       " 'is',\n",
       " 'also',\n",
       " 'known',\n",
       " 'as',\n",
       " 'NLP',\n",
       " '.']"
      ]
     },
     "execution_count": 11,
     "metadata": {},
     "output_type": "execute_result"
    }
   ],
   "source": [
    "#Chunking thesentences into words\n",
    "from nltk.tokenize import word_tokenize\n",
    "word_tokenize(paragraph)"
   ]
  },
  {
   "cell_type": "markdown",
   "id": "4ebc5ce4",
   "metadata": {},
   "source": [
    "## Removing the punctuations"
   ]
  },
  {
   "cell_type": "code",
   "execution_count": 12,
   "id": "6de76478",
   "metadata": {},
   "outputs": [],
   "source": [
    "#*Regex - Regular Expression '\\w'"
   ]
  },
  {
   "cell_type": "code",
   "execution_count": 13,
   "id": "7ca3448f",
   "metadata": {},
   "outputs": [],
   "source": [
    "from nltk.tokenize import RegexpTokenizer\n",
    "tokenizer = RegexpTokenizer('\\w+')"
   ]
  },
  {
   "cell_type": "code",
   "execution_count": 14,
   "id": "645f9ae8",
   "metadata": {
    "scrolled": true
   },
   "outputs": [
    {
     "data": {
      "text/plain": [
       "['Hello',\n",
       " 'Participants',\n",
       " 'Topic',\n",
       " 'of',\n",
       " 'the',\n",
       " 'day',\n",
       " 'is',\n",
       " 'Natural',\n",
       " 'Language',\n",
       " 'Processing',\n",
       " 'We',\n",
       " 'are',\n",
       " 'learning',\n",
       " 'about',\n",
       " 'Natural',\n",
       " 'Language',\n",
       " 'Processing',\n",
       " 'using',\n",
       " 'nltk',\n",
       " 'package',\n",
       " 'natural',\n",
       " 'language',\n",
       " 'processing',\n",
       " 'is',\n",
       " 'interesting',\n",
       " 'and',\n",
       " 'easy',\n",
       " 'This',\n",
       " 'is',\n",
       " 'also',\n",
       " 'known',\n",
       " 'as',\n",
       " 'NLP']"
      ]
     },
     "execution_count": 14,
     "metadata": {},
     "output_type": "execute_result"
    }
   ],
   "source": [
    "tokenizer.tokenize(paragraph)"
   ]
  },
  {
   "cell_type": "markdown",
   "id": "c0de3e3c",
   "metadata": {},
   "source": [
    "### 4. Stop Words"
   ]
  },
  {
   "cell_type": "code",
   "execution_count": 16,
   "id": "0e781a64",
   "metadata": {
    "scrolled": true
   },
   "outputs": [
    {
     "name": "stdout",
     "output_type": "stream",
     "text": [
      "['i', 'me', 'my', 'myself', 'we', 'our', 'ours', 'ourselves', 'you', \"you're\", \"you've\", \"you'll\", \"you'd\", 'your', 'yours', 'yourself', 'yourselves', 'he', 'him', 'his', 'himself', 'she', \"she's\", 'her', 'hers', 'herself', 'it', \"it's\", 'its', 'itself', 'they', 'them', 'their', 'theirs', 'themselves', 'what', 'which', 'who', 'whom', 'this', 'that', \"that'll\", 'these', 'those', 'am', 'is', 'are', 'was', 'were', 'be', 'been', 'being', 'have', 'has', 'had', 'having', 'do', 'does', 'did', 'doing', 'a', 'an', 'the', 'and', 'but', 'if', 'or', 'because', 'as', 'until', 'while', 'of', 'at', 'by', 'for', 'with', 'about', 'against', 'between', 'into', 'through', 'during', 'before', 'after', 'above', 'below', 'to', 'from', 'up', 'down', 'in', 'out', 'on', 'off', 'over', 'under', 'again', 'further', 'then', 'once', 'here', 'there', 'when', 'where', 'why', 'how', 'all', 'any', 'both', 'each', 'few', 'more', 'most', 'other', 'some', 'such', 'no', 'nor', 'not', 'only', 'own', 'same', 'so', 'than', 'too', 'very', 's', 't', 'can', 'will', 'just', 'don', \"don't\", 'should', \"should've\", 'now', 'd', 'll', 'm', 'o', 're', 've', 'y', 'ain', 'aren', \"aren't\", 'couldn', \"couldn't\", 'didn', \"didn't\", 'doesn', \"doesn't\", 'hadn', \"hadn't\", 'hasn', \"hasn't\", 'haven', \"haven't\", 'isn', \"isn't\", 'ma', 'mightn', \"mightn't\", 'mustn', \"mustn't\", 'needn', \"needn't\", 'shan', \"shan't\", 'shouldn', \"shouldn't\", 'wasn', \"wasn't\", 'weren', \"weren't\", 'won', \"won't\", 'wouldn', \"wouldn't\"]\n"
     ]
    }
   ],
   "source": [
    "from nltk.corpus import stopwords\n",
    "print(stopwords.words('english'))"
   ]
  },
  {
   "cell_type": "markdown",
   "id": "71b447f4",
   "metadata": {},
   "source": [
    "### Making Separate list eliminating stop words from words list"
   ]
  },
  {
   "cell_type": "code",
   "execution_count": 17,
   "id": "08c99aeb",
   "metadata": {},
   "outputs": [],
   "source": [
    "new_words = tokenizer.tokenize(paragraph)\n",
    "stop_words = stopwords.words('english')\n",
    "filtered_words = []\n",
    "\n",
    "for w in new_words:\n",
    "    if w not in stop_words:\n",
    "        filtered_words.append(w)\n",
    "     "
   ]
  },
  {
   "cell_type": "code",
   "execution_count": 64,
   "id": "30052cd4",
   "metadata": {
    "scrolled": false
   },
   "outputs": [
    {
     "data": {
      "text/plain": [
       "['Hello',\n",
       " 'Participants',\n",
       " 'Topic',\n",
       " 'day',\n",
       " 'Natural',\n",
       " 'Language',\n",
       " 'Processing',\n",
       " 'We',\n",
       " 'learning',\n",
       " 'Natural',\n",
       " 'Language',\n",
       " 'Processing',\n",
       " 'using',\n",
       " 'nltk',\n",
       " 'package',\n",
       " 'natural',\n",
       " 'language',\n",
       " 'processing',\n",
       " 'interesting',\n",
       " 'easy',\n",
       " 'This',\n",
       " 'also',\n",
       " 'known',\n",
       " 'NLP']"
      ]
     },
     "execution_count": 64,
     "metadata": {},
     "output_type": "execute_result"
    }
   ],
   "source": [
    "filtered_words"
   ]
  },
  {
   "cell_type": "markdown",
   "id": "f61df8d8",
   "metadata": {},
   "source": [
    "## Lexicon Normalization\n",
    "*Stemming & Lemmization\n",
    "*Lemizzation\n"
   ]
  },
  {
   "cell_type": "code",
   "execution_count": 18,
   "id": "7cd23589",
   "metadata": {},
   "outputs": [],
   "source": [
    "from nltk.stem.wordnet import WordNetLemmatizer\n",
    "lemmas = WordNetLemmatizer()"
   ]
  },
  {
   "cell_type": "code",
   "execution_count": 19,
   "id": "e02ea446",
   "metadata": {},
   "outputs": [
    {
     "data": {
      "text/plain": [
       "'go'"
      ]
     },
     "execution_count": 19,
     "metadata": {},
     "output_type": "execute_result"
    }
   ],
   "source": [
    "lemmas.lemmatize(\"going\",\"v\")"
   ]
  },
  {
   "cell_type": "code",
   "execution_count": 20,
   "id": "c738d8d5",
   "metadata": {},
   "outputs": [
    {
     "data": {
      "text/plain": [
       "'read'"
      ]
     },
     "execution_count": 20,
     "metadata": {},
     "output_type": "execute_result"
    }
   ],
   "source": [
    "lemmas.lemmatize(\"reading\",\"v\")"
   ]
  },
  {
   "cell_type": "markdown",
   "id": "f21b302a",
   "metadata": {},
   "source": [
    "## POS : Part of Speech"
   ]
  },
  {
   "cell_type": "markdown",
   "id": "d8dcd0c2",
   "metadata": {},
   "source": [
    "### POS TAGGING"
   ]
  },
  {
   "cell_type": "code",
   "execution_count": 21,
   "id": "c5794737",
   "metadata": {},
   "outputs": [
    {
     "data": {
      "text/plain": [
       "[('Hello', 'NNP'),\n",
       " ('Participants', 'NNS'),\n",
       " ('Topic', 'NNP'),\n",
       " ('day', 'NN'),\n",
       " ('Natural', 'NNP'),\n",
       " ('Language', 'NNP'),\n",
       " ('Processing', 'NNP'),\n",
       " ('We', 'PRP'),\n",
       " ('learning', 'VBG'),\n",
       " ('Natural', 'JJ'),\n",
       " ('Language', 'NNP'),\n",
       " ('Processing', 'NNP'),\n",
       " ('using', 'VBG'),\n",
       " ('nltk', 'JJ'),\n",
       " ('package', 'NN'),\n",
       " ('natural', 'JJ'),\n",
       " ('language', 'NN'),\n",
       " ('processing', 'NN'),\n",
       " ('interesting', 'JJ'),\n",
       " ('easy', 'NN'),\n",
       " ('This', 'DT'),\n",
       " ('also', 'RB'),\n",
       " ('known', 'VBN'),\n",
       " ('NLP', 'NNP')]"
      ]
     },
     "execution_count": 21,
     "metadata": {},
     "output_type": "execute_result"
    }
   ],
   "source": [
    "from nltk import pos_tag\n",
    "pos_tag(filtered_words)"
   ]
  },
  {
   "cell_type": "code",
   "execution_count": 22,
   "id": "9c157afa",
   "metadata": {},
   "outputs": [],
   "source": [
    "def lammatize_words(words):\n",
    "    lammas = WordNetLemmatizer()\n",
    "    for word, tag in pos_tag(words):\n",
    "        if tag.startswith('NN'):\n",
    "            yield lemmas.lemmatize(word, 'n')\n",
    "        if tag.startswith('VB'):\n",
    "            yield lemmas.lemmatize(word, 'v')\n",
    "        if tag.startswith('JJ'):\n",
    "            yield lemmas.lemmatize(word, 'a')\n",
    "        if tag.startswith('RB'):\n",
    "            yield lemmas.lemmatize(word, 'r')"
   ]
  },
  {
   "cell_type": "code",
   "execution_count": 23,
   "id": "dd831243",
   "metadata": {},
   "outputs": [
    {
     "name": "stdout",
     "output_type": "stream",
     "text": [
      "Hello Participants Topic day Natural Language Processing learn Natural Language Processing use nltk package natural language processing interesting easy also know NLP\n"
     ]
    }
   ],
   "source": [
    "print(\" \".join(lammatize_words(filtered_words)))"
   ]
  },
  {
   "cell_type": "code",
   "execution_count": null,
   "id": "f0aac072",
   "metadata": {},
   "outputs": [],
   "source": []
  }
 ],
 "metadata": {
  "kernelspec": {
   "display_name": "Python 3 (ipykernel)",
   "language": "python",
   "name": "python3"
  },
  "language_info": {
   "codemirror_mode": {
    "name": "ipython",
    "version": 3
   },
   "file_extension": ".py",
   "mimetype": "text/x-python",
   "name": "python",
   "nbconvert_exporter": "python",
   "pygments_lexer": "ipython3",
   "version": "3.11.5"
  }
 },
 "nbformat": 4,
 "nbformat_minor": 5
}
